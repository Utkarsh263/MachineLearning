{
 "cells": [
  {
   "cell_type": "code",
   "execution_count": null,
   "id": "8c7def9b-39d8-4838-b68f-31f76b55ed7e",
   "metadata": {},
   "outputs": [],
   "source": []
  }
 ],
 "metadata": {
  "kernelspec": {
   "display_name": "",
   "name": ""
  },
  "language_info": {
   "name": ""
  }
 },
 "nbformat": 4,
 "nbformat_minor": 5
}
