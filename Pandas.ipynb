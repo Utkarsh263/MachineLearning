{
 "cells": [
  {
   "cell_type": "code",
   "execution_count": 1,
   "id": "87ccf6f8-4985-431f-8291-346e81975020",
   "metadata": {},
   "outputs": [],
   "source": [
    "import pandas as pd\n",
    "data = {\n",
    "    \"Name\":['Ram', 'Shyam' , 'Reema', 'Sita','Geeta'],\n",
    "    \"Age\":[10,12,30,34,56],\n",
    "    \"Salary\":[10000,20000,30000,40000,50000]\n",
    "}\n",
    "dataframe= pd.DataFrame(data)"
   ]
  },
  {
   "cell_type": "code",
   "execution_count": 2,
   "id": "c58d22a8-8601-4d48-be82-dc7e8a9aafcd",
   "metadata": {},
   "outputs": [
    {
     "name": "stdout",
     "output_type": "stream",
     "text": [
      "    Name  Age  Salary\n",
      "0    Ram   10   10000\n",
      "1  Shyam   12   20000\n",
      "2  Reema   30   30000\n",
      "3   Sita   34   40000\n",
      "4  Geeta   56   50000\n"
     ]
    }
   ],
   "source": [
    "print(dataframe)\n"
   ]
  },
  {
   "cell_type": "code",
   "execution_count": 3,
   "id": "0725ead4-e957-482c-9a6a-19259114bfd7",
   "metadata": {},
   "outputs": [],
   "source": [
    "dataframe[\"Bonus\"] = dataframe['Salary'] * 0.10"
   ]
  },
  {
   "cell_type": "code",
   "execution_count": 4,
   "id": "01284f25-8037-497b-96b5-7900cc7eaa38",
   "metadata": {},
   "outputs": [
    {
     "name": "stdout",
     "output_type": "stream",
     "text": [
      "    Name  Age  Salary   Bonus\n",
      "0    Ram   10   10000  1000.0\n",
      "1  Shyam   12   20000  2000.0\n",
      "2  Reema   30   30000  3000.0\n",
      "3   Sita   34   40000  4000.0\n",
      "4  Geeta   56   50000  5000.0\n"
     ]
    }
   ],
   "source": [
    "print(dataframe)"
   ]
  },
  {
   "cell_type": "code",
   "execution_count": 6,
   "id": "70ca4f96-b877-47c7-8516-e4d398902d0a",
   "metadata": {},
   "outputs": [
    {
     "name": "stdout",
     "output_type": "stream",
     "text": [
      "   EmployeeId   Name  Age  Salary   Bonus\n",
      "0          10    Ram   10   10000  1000.0\n",
      "1          20  Shyam   12   20000  2000.0\n",
      "2          30  Reema   30   30000  3000.0\n",
      "3          40   Sita   34   40000  4000.0\n",
      "4          50  Geeta   56   50000  5000.0\n"
     ]
    }
   ],
   "source": [
    "#using insert method having parameters (loc, columnname, values)\n",
    "dataframe.insert(0, \"EmployeeId\" , [10,20,30,40,50])\n",
    "print(dataframe)\n"
   ]
  },
  {
   "cell_type": "code",
   "execution_count": 8,
   "id": "1a473e04-b4d8-4e5e-b714-b1df9720c766",
   "metadata": {},
   "outputs": [
    {
     "name": "stdout",
     "output_type": "stream",
     "text": [
      "   EmployeeId   Name  Age  Salary   Bonus\n",
      "0          10    Ram   10   55000  1000.0\n",
      "1          20  Shyam   12   20000  2000.0\n",
      "2          30  Reema   30   30000  3000.0\n",
      "3          40   Sita   34   40000  4000.0\n",
      "4          50  Geeta   56   50000  5000.0\n"
     ]
    }
   ],
   "source": [
    "#.loc(rowindex , column name) = new_value\n",
    "dataframe.loc[0,\"Salary\"] = 55000\n",
    "print(dataframe)\n"
   ]
  },
  {
   "cell_type": "code",
   "execution_count": 10,
   "id": "96b1a3fa-39b5-492b-843e-a2a5b5238c24",
   "metadata": {},
   "outputs": [],
   "source": [
    "dataframe[\"Salary\"] = dataframe['Salary'] * 1.10"
   ]
  },
  {
   "cell_type": "code",
   "execution_count": 11,
   "id": "62b6f1f2-47d6-43cc-ad8b-6a92b49eb661",
   "metadata": {},
   "outputs": [
    {
     "name": "stdout",
     "output_type": "stream",
     "text": [
      "   EmployeeId   Name  Age   Salary   Bonus\n",
      "0          10    Ram   10  60500.0  5500.0\n",
      "1          20  Shyam   12  22000.0  2000.0\n",
      "2          30  Reema   30  33000.0  3000.0\n",
      "3          40   Sita   34  44000.0  4000.0\n",
      "4          50  Geeta   56  55000.0  5000.0\n"
     ]
    }
   ],
   "source": [
    "print(dataframe)"
   ]
  },
  {
   "cell_type": "code",
   "execution_count": 12,
   "id": "32fc6a5a-a55b-4f87-83a6-46c132a7b7ec",
   "metadata": {},
   "outputs": [],
   "source": [
    "#drop(columns= \"columnname\" , inplace= true) made changes in refrence\n",
    "dataframe.drop(columns = ['EmployeeId'] , inplace = True)"
   ]
  },
  {
   "cell_type": "code",
   "execution_count": 13,
   "id": "362b62fe-5916-427d-aacf-d14bf7172435",
   "metadata": {},
   "outputs": [
    {
     "name": "stdout",
     "output_type": "stream",
     "text": [
      "    Name  Age   Salary   Bonus\n",
      "0    Ram   10  60500.0  5500.0\n",
      "1  Shyam   12  22000.0  2000.0\n",
      "2  Reema   30  33000.0  3000.0\n",
      "3   Sita   34  44000.0  4000.0\n",
      "4  Geeta   56  55000.0  5000.0\n"
     ]
    }
   ],
   "source": [
    "print(dataframe)"
   ]
  },
  {
   "cell_type": "code",
   "execution_count": 14,
   "id": "f7248a55-a79d-4230-a771-deb893b33023",
   "metadata": {},
   "outputs": [
    {
     "name": "stdout",
     "output_type": "stream",
     "text": [
      "    Name    Age  Salary  Bonus\n",
      "0  False  False   False  False\n",
      "1  False  False   False  False\n",
      "2  False  False   False  False\n",
      "3  False  False   False  False\n",
      "4  False  False   False  False\n"
     ]
    }
   ],
   "source": [
    "#handling missing data by NaN or None by which isnull is a method \n",
    "print(dataframe.isnull())"
   ]
  },
  {
   "cell_type": "code",
   "execution_count": 15,
   "id": "9e88d8a5-02b0-4182-ad57-c93b941465a1",
   "metadata": {},
   "outputs": [
    {
     "name": "stdout",
     "output_type": "stream",
     "text": [
      "Name      0\n",
      "Age       0\n",
      "Salary    0\n",
      "Bonus     0\n",
      "dtype: int64\n"
     ]
    }
   ],
   "source": [
    "print(dataframe.isnull().sum())"
   ]
  },
  {
   "cell_type": "code",
   "execution_count": 17,
   "id": "338dc259-4217-429d-8f47-8274746f22b8",
   "metadata": {},
   "outputs": [],
   "source": [
    "#dropna(axis=0 , inplace=True)\n",
    "dataframe.dropna(inplace=True)"
   ]
  },
  {
   "cell_type": "code",
   "execution_count": 18,
   "id": "cf9b9580-399c-4d11-be3f-01183976be9d",
   "metadata": {},
   "outputs": [],
   "source": [
    "#fillna(value, inplace=True)\n",
    "dataframe.fillna(0,inplace=True)"
   ]
  },
  {
   "cell_type": "code",
   "execution_count": 19,
   "id": "6db91a87-7ab4-41f5-b2bc-fcb445fe3c04",
   "metadata": {},
   "outputs": [
    {
     "name": "stdout",
     "output_type": "stream",
     "text": [
      "   Time  Value\n",
      "0     1   10.0\n",
      "1     2    NaN\n",
      "2     3   30.0\n",
      "3     4    NaN\n",
      "4     5   50.0\n"
     ]
    }
   ],
   "source": [
    "#interpolation interpolate(type= \"Linear\", axis=0,inplace=True)\n",
    "data={\n",
    "    \"Time\":[1,2,3,4,5],\n",
    "    \"Value\" :[10,None, 30,None,50]\n",
    "}\n",
    "dn= pd.DataFrame(data)\n",
    "print(dn)\n"
   ]
  },
  {
   "cell_type": "code",
   "execution_count": 21,
   "id": "c47c0b55-6fa6-4f66-b72b-1ef26e8ce82e",
   "metadata": {},
   "outputs": [
    {
     "name": "stdout",
     "output_type": "stream",
     "text": [
      "   Time  Value\n",
      "0     1   10.0\n",
      "1     2   20.0\n",
      "2     3   30.0\n",
      "3     4   40.0\n",
      "4     5   50.0\n",
      "   Time  Value\n",
      "0     1   10.0\n",
      "1     2   20.0\n",
      "2     3   30.0\n",
      "3     4   40.0\n",
      "4     5   50.0\n"
     ]
    }
   ],
   "source": [
    "print(dn)\n",
    "dn['Value'] = dn['Value'].interpolate(method=\"linear\")\n",
    "print(dn)"
   ]
  },
  {
   "cell_type": "code",
   "execution_count": 23,
   "id": "e86145b5-e23d-4c19-9e0e-71405d1fe394",
   "metadata": {},
   "outputs": [
    {
     "name": "stdout",
     "output_type": "stream",
     "text": [
      "   Time  Value\n",
      "0     1   10.0\n",
      "1     2   20.0\n",
      "2     3   30.0\n",
      "3     4   40.0\n",
      "4     5   50.0\n",
      "   Time  Value\n",
      "0     1   10.0\n",
      "1     2   20.0\n",
      "2     3   30.0\n",
      "3     4   40.0\n",
      "4     5   50.0\n"
     ]
    }
   ],
   "source": [
    "print(dn)\n",
    "dn['Value'] = dn['Value'].interpolate(method=\"polynomial\" , order=2)\n",
    "print(dn)"
   ]
  },
  {
   "cell_type": "code",
   "execution_count": 27,
   "id": "3a6dcdea-62c9-49df-8f10-9326670a4426",
   "metadata": {},
   "outputs": [
    {
     "name": "stdout",
     "output_type": "stream",
     "text": [
      "    Name  Age  Salary\n",
      "0    Ram   10   10000\n",
      "1  Shyam   12   20000\n",
      "2  Reema   30   30000\n",
      "3   Sita   34   40000\n",
      "4  Geeta   56   50000\n"
     ]
    }
   ],
   "source": [
    "#Sorting of data \n",
    "#in 1 column .sort_values(by=\"Columnname\" , True/False, inplace = True)\n",
    "data = {\n",
    "    \"Name\":['Ram', 'Shyam' , 'Reema', 'Sita','Geeta'],\n",
    "    \"Age\":[10,12,30,34,56],\n",
    "    \"Salary\":[10000,20000,30000,40000,50000]\n",
    "}\n",
    "dnew= pd.DataFrame(data)\n",
    "print(dnew)\n",
    "\n"
   ]
  },
  {
   "cell_type": "code",
   "execution_count": 28,
   "id": "486f7534-063d-47a7-bc5e-14fc1d5170e4",
   "metadata": {},
   "outputs": [],
   "source": [
    "dnew.sort_values(by=\"Age\" ,ascending= False, inplace = True)"
   ]
  },
  {
   "cell_type": "code",
   "execution_count": 29,
   "id": "f32db184-c1ae-4467-8339-c45c71734247",
   "metadata": {},
   "outputs": [
    {
     "name": "stdout",
     "output_type": "stream",
     "text": [
      "    Name  Age  Salary\n",
      "4  Geeta   56   50000\n",
      "3   Sita   34   40000\n",
      "2  Reema   30   30000\n",
      "1  Shyam   12   20000\n",
      "0    Ram   10   10000\n"
     ]
    }
   ],
   "source": [
    "print(dnew)"
   ]
  },
  {
   "cell_type": "code",
   "execution_count": 30,
   "id": "8c53586a-5371-42c3-8ea9-04b7b0d36a4a",
   "metadata": {},
   "outputs": [],
   "source": [
    "dnew.sort_values(by=[\"Age\",\"Salary\"] ,ascending= False, inplace = True)"
   ]
  },
  {
   "cell_type": "code",
   "execution_count": 31,
   "id": "a1690a23-ff2f-4aca-9eec-2daef9a1ddab",
   "metadata": {},
   "outputs": [
    {
     "name": "stdout",
     "output_type": "stream",
     "text": [
      "    Name  Age  Salary\n",
      "4  Geeta   56   50000\n",
      "3   Sita   34   40000\n",
      "2  Reema   30   30000\n",
      "1  Shyam   12   20000\n",
      "0    Ram   10   10000\n"
     ]
    }
   ],
   "source": [
    "print(dnew)"
   ]
  },
  {
   "cell_type": "code",
   "execution_count": 32,
   "id": "99a975cb-1746-4332-93b0-386e3e6902af",
   "metadata": {},
   "outputs": [],
   "source": [
    "#aggregate functions \n",
    "avg_salary = dnew['Salary'].mean()"
   ]
  },
  {
   "cell_type": "code",
   "execution_count": 33,
   "id": "e0bf3d3b-cd64-4f38-bb34-317ba7f80326",
   "metadata": {},
   "outputs": [
    {
     "name": "stdout",
     "output_type": "stream",
     "text": [
      "30000.0\n"
     ]
    }
   ],
   "source": [
    "print(avg_salary)"
   ]
  },
  {
   "cell_type": "code",
   "execution_count": 34,
   "id": "90b08f09-3296-4a5e-83c9-8b672437821e",
   "metadata": {},
   "outputs": [
    {
     "name": "stdout",
     "output_type": "stream",
     "text": [
      "    Name  Age  Salary\n",
      "4  Geeta   56   50000\n",
      "3   Sita   34   40000\n",
      "2  Reema   30   30000\n",
      "1  Shyam   12   20000\n",
      "0    Ram   10   10000\n"
     ]
    }
   ],
   "source": [
    "#grouping of data \n",
    "print(dnew)"
   ]
  },
  {
   "cell_type": "code",
   "execution_count": 36,
   "id": "9f792eac-c202-42f8-819b-01fc7fc1e817",
   "metadata": {},
   "outputs": [],
   "source": [
    "dnew.sort_values(by=[\"Age\",\"Salary\"] ,ascending= True, inplace = True)"
   ]
  },
  {
   "cell_type": "code",
   "execution_count": 37,
   "id": "818c1747-6557-4f1f-8e3d-6a26fd08c7d9",
   "metadata": {},
   "outputs": [
    {
     "name": "stdout",
     "output_type": "stream",
     "text": [
      "    Name  Age  Salary\n",
      "0    Ram   10   10000\n",
      "1  Shyam   12   20000\n",
      "2  Reema   30   30000\n",
      "3   Sita   34   40000\n",
      "4  Geeta   56   50000\n"
     ]
    }
   ],
   "source": [
    "print(dnew)"
   ]
  },
  {
   "cell_type": "code",
   "execution_count": 38,
   "id": "1f0555c1-5426-4ee2-99e5-61659b527669",
   "metadata": {},
   "outputs": [],
   "source": [
    "#grouping of data \n",
    "group= dnew.groupby(\"Age\")['Salary'].sum()"
   ]
  },
  {
   "cell_type": "code",
   "execution_count": 39,
   "id": "31f6505a-ad61-4429-a787-92bd7a7f8d13",
   "metadata": {},
   "outputs": [
    {
     "name": "stdout",
     "output_type": "stream",
     "text": [
      "Age\n",
      "10    10000\n",
      "12    20000\n",
      "30    30000\n",
      "34    40000\n",
      "56    50000\n",
      "Name: Salary, dtype: int64\n"
     ]
    }
   ],
   "source": [
    "print(group)"
   ]
  },
  {
   "cell_type": "code",
   "execution_count": 41,
   "id": "352b80dc-b22f-48a8-a66a-b0000bdb54d2",
   "metadata": {},
   "outputs": [],
   "source": [
    "dnew.loc[0,'Age']=12"
   ]
  },
  {
   "cell_type": "code",
   "execution_count": 42,
   "id": "149f730a-7c35-41b6-a08b-8a1305a69fc2",
   "metadata": {},
   "outputs": [
    {
     "name": "stdout",
     "output_type": "stream",
     "text": [
      "    Name  Age  Salary\n",
      "0    Ram   12   10000\n",
      "1  Shyam   12   20000\n",
      "2  Reema   30   30000\n",
      "3   Sita   34   40000\n",
      "4  Geeta   56   50000\n"
     ]
    }
   ],
   "source": [
    "print(dnew)\n",
    "group= dnew.groupby(\"Age\")['Salary'].sum()"
   ]
  },
  {
   "cell_type": "code",
   "execution_count": 43,
   "id": "baf49d16-29aa-4065-a49c-8b0fe2e43ca2",
   "metadata": {},
   "outputs": [
    {
     "name": "stdout",
     "output_type": "stream",
     "text": [
      "Age\n",
      "12    30000\n",
      "30    30000\n",
      "34    40000\n",
      "56    50000\n",
      "Name: Salary, dtype: int64\n"
     ]
    }
   ],
   "source": [
    "print(group)"
   ]
  },
  {
   "cell_type": "code",
   "execution_count": 44,
   "id": "54781b55-2d1a-4741-bf7f-a2b02a0e9841",
   "metadata": {},
   "outputs": [],
   "source": [
    "#multiple columns \n",
    "group= dnew.groupby([\"Name\",\"Age\"])['Salary'].sum()"
   ]
  },
  {
   "cell_type": "code",
   "execution_count": 45,
   "id": "387b248d-c635-4a1b-84a8-69e5852f7c5c",
   "metadata": {},
   "outputs": [
    {
     "name": "stdout",
     "output_type": "stream",
     "text": [
      "Name   Age\n",
      "Geeta  56     50000\n",
      "Ram    12     10000\n",
      "Reema  30     30000\n",
      "Shyam  12     20000\n",
      "Sita   34     40000\n",
      "Name: Salary, dtype: int64\n"
     ]
    }
   ],
   "source": [
    "print(group)"
   ]
  },
  {
   "cell_type": "code",
   "execution_count": 46,
   "id": "eee0f6af-26f6-43be-be65-e33d9cf891db",
   "metadata": {},
   "outputs": [
    {
     "name": "stdout",
     "output_type": "stream",
     "text": [
      "Age\n",
      "12    15000.0\n",
      "30    30000.0\n",
      "34    40000.0\n",
      "56    50000.0\n",
      "Name: Salary, dtype: float64\n"
     ]
    }
   ],
   "source": [
    "group= dnew.groupby(\"Age\")['Salary'].mean()\n",
    "print(group)"
   ]
  },
  {
   "cell_type": "code",
   "execution_count": 47,
   "id": "bce648c9-9b29-4a66-b246-89c995218e0e",
   "metadata": {},
   "outputs": [
    {
     "name": "stdout",
     "output_type": "stream",
     "text": [
      "Age\n",
      "12    2\n",
      "30    1\n",
      "34    1\n",
      "56    1\n",
      "Name: Salary, dtype: int64\n"
     ]
    }
   ],
   "source": [
    "group= dnew.groupby(\"Age\")['Salary'].count()\n",
    "print(group)"
   ]
  },
  {
   "cell_type": "code",
   "execution_count": 48,
   "id": "cc2c4fe4-d84e-4d10-a13f-5fe5f1481687",
   "metadata": {},
   "outputs": [
    {
     "name": "stdout",
     "output_type": "stream",
     "text": [
      "Age\n",
      "12    10000\n",
      "30    30000\n",
      "34    40000\n",
      "56    50000\n",
      "Name: Salary, dtype: int64\n"
     ]
    }
   ],
   "source": [
    "group= dnew.groupby(\"Age\")['Salary'].min()\n",
    "print(group)"
   ]
  },
  {
   "cell_type": "code",
   "execution_count": 49,
   "id": "5e941648-0d7c-4498-887b-686dd2d0ab13",
   "metadata": {},
   "outputs": [
    {
     "name": "stdout",
     "output_type": "stream",
     "text": [
      "Age\n",
      "12    20000\n",
      "30    30000\n",
      "34    40000\n",
      "56    50000\n",
      "Name: Salary, dtype: int64\n"
     ]
    }
   ],
   "source": [
    "group= dnew.groupby(\"Age\")['Salary'].max()\n",
    "print(group)"
   ]
  },
  {
   "cell_type": "code",
   "execution_count": 50,
   "id": "acb2b2b0-9e49-4840-87b1-5b2a0922a838",
   "metadata": {},
   "outputs": [
    {
     "name": "stdout",
     "output_type": "stream",
     "text": [
      "Age\n",
      "12    7071.067812\n",
      "30            NaN\n",
      "34            NaN\n",
      "56            NaN\n",
      "Name: Salary, dtype: float64\n"
     ]
    }
   ],
   "source": [
    "group= dnew.groupby(\"Age\")['Salary'].std()\n",
    "print(group)"
   ]
  },
  {
   "cell_type": "code",
   "execution_count": 51,
   "id": "c6e1cb25-6e42-4f6f-b72f-6ec92e14c2d4",
   "metadata": {},
   "outputs": [
    {
     "name": "stdout",
     "output_type": "stream",
     "text": [
      "    Name  Age  Salary\n",
      "0    Ram   10   10000\n",
      "1  Shyam   12   20000\n",
      "2  Reema   30   30000\n",
      "3   Sita   34   40000\n",
      "4  Geeta   56   50000\n"
     ]
    }
   ],
   "source": [
    "#merging dataframe \n",
    "data = {\n",
    "    \"Name\":['Ram', 'Shyam' , 'Reema', 'Sita','Geeta'],\n",
    "    \"Age\":[10,12,30,34,56],\n",
    "    \"Salary\":[10000,20000,30000,40000,50000]\n",
    "}\n",
    "df1 = pd.DataFrame(data)\n",
    "print(df1)"
   ]
  },
  {
   "cell_type": "code",
   "execution_count": 52,
   "id": "bdd8354c-ecbd-4f60-a80e-cafe52388bb1",
   "metadata": {},
   "outputs": [
    {
     "name": "stdout",
     "output_type": "stream",
     "text": [
      "      Name  Age  Salary\n",
      "0      Ram   10   10000\n",
      "1    Shyam   12   20000\n",
      "2  Utkarsh   30   30000\n",
      "3     Sita   34   40000\n",
      "4    Vansh   56   50000\n"
     ]
    }
   ],
   "source": [
    "data = {\n",
    "    \"Name\":['Ram', 'Shyam' , 'Utkarsh', 'Sita','Vansh'],\n",
    "    \"Age\":[10,12,30,34,56],\n",
    "    \"Salary\":[10000,20000,30000,40000,50000]\n",
    "}\n",
    "df2 = pd.DataFrame(data)\n",
    "print(df2)"
   ]
  },
  {
   "cell_type": "code",
   "execution_count": 53,
   "id": "6e475bac-36f4-421c-9a67-74f622a36dbd",
   "metadata": {},
   "outputs": [
    {
     "name": "stdout",
     "output_type": "stream",
     "text": [
      "    Name  Age_x  Salary_x  Age_y  Salary_y\n",
      "0    Ram     10     10000     10     10000\n",
      "1  Shyam     12     20000     12     20000\n",
      "2   Sita     34     40000     34     40000\n"
     ]
    }
   ],
   "source": [
    "# .merge(df1 , df2 , on= \"ColumnNmae\" , how= \"inner/outer/left/right/full joins\")\n",
    "merged= pd.merge(df1,df2, on =\"Name\", how=\"inner\")\n",
    "print(merged)"
   ]
  },
  {
   "cell_type": "code",
   "execution_count": 54,
   "id": "94f0008d-5f43-4651-8ac0-cec2ff488d2c",
   "metadata": {},
   "outputs": [
    {
     "name": "stdout",
     "output_type": "stream",
     "text": [
      "    Name  Age_x  Salary_x  Age_y  Salary_y\n",
      "0    Ram     10     10000   10.0   10000.0\n",
      "1  Shyam     12     20000   12.0   20000.0\n",
      "2  Reema     30     30000    NaN       NaN\n",
      "3   Sita     34     40000   34.0   40000.0\n",
      "4  Geeta     56     50000    NaN       NaN\n"
     ]
    }
   ],
   "source": [
    "merged= pd.merge(df1,df2, on =\"Name\", how=\"left\")\n",
    "print(merged)"
   ]
  },
  {
   "cell_type": "code",
   "execution_count": 55,
   "id": "e6de56d9-f4e6-4209-9887-f4e3c94ceebe",
   "metadata": {},
   "outputs": [
    {
     "name": "stdout",
     "output_type": "stream",
     "text": [
      "      Name  Age_x  Salary_x  Age_y  Salary_y\n",
      "0      Ram   10.0   10000.0     10     10000\n",
      "1    Shyam   12.0   20000.0     12     20000\n",
      "2  Utkarsh    NaN       NaN     30     30000\n",
      "3     Sita   34.0   40000.0     34     40000\n",
      "4    Vansh    NaN       NaN     56     50000\n"
     ]
    }
   ],
   "source": [
    "merged= pd.merge(df1,df2, on =\"Name\", how=\"right\")\n",
    "print(merged)"
   ]
  },
  {
   "cell_type": "code",
   "execution_count": 57,
   "id": "54937441-3757-47c0-80b5-04b4e6d981aa",
   "metadata": {},
   "outputs": [
    {
     "name": "stdout",
     "output_type": "stream",
     "text": [
      "      Name  Age_x  Salary_x  Age_y  Salary_y\n",
      "0    Geeta   56.0   50000.0    NaN       NaN\n",
      "1      Ram   10.0   10000.0   10.0   10000.0\n",
      "2    Reema   30.0   30000.0    NaN       NaN\n",
      "3    Shyam   12.0   20000.0   12.0   20000.0\n",
      "4     Sita   34.0   40000.0   34.0   40000.0\n",
      "5  Utkarsh    NaN       NaN   30.0   30000.0\n",
      "6    Vansh    NaN       NaN   56.0   50000.0\n"
     ]
    }
   ],
   "source": [
    "merged= pd.merge(df1,df2, on =\"Name\", how=\"outer\")\n",
    "print(merged)"
   ]
  },
  {
   "cell_type": "code",
   "execution_count": 59,
   "id": "2dfea148-e3c5-4ce9-8c2f-7da70c4df998",
   "metadata": {},
   "outputs": [
    {
     "name": "stdout",
     "output_type": "stream",
     "text": [
      "   Name_x  Age_x  Salary_x   Name_y  Age_y  Salary_y\n",
      "0     Ram     10     10000      Ram     10     10000\n",
      "1     Ram     10     10000    Shyam     12     20000\n",
      "2     Ram     10     10000  Utkarsh     30     30000\n",
      "3     Ram     10     10000     Sita     34     40000\n",
      "4     Ram     10     10000    Vansh     56     50000\n",
      "5   Shyam     12     20000      Ram     10     10000\n",
      "6   Shyam     12     20000    Shyam     12     20000\n",
      "7   Shyam     12     20000  Utkarsh     30     30000\n",
      "8   Shyam     12     20000     Sita     34     40000\n",
      "9   Shyam     12     20000    Vansh     56     50000\n",
      "10  Reema     30     30000      Ram     10     10000\n",
      "11  Reema     30     30000    Shyam     12     20000\n",
      "12  Reema     30     30000  Utkarsh     30     30000\n",
      "13  Reema     30     30000     Sita     34     40000\n",
      "14  Reema     30     30000    Vansh     56     50000\n",
      "15   Sita     34     40000      Ram     10     10000\n",
      "16   Sita     34     40000    Shyam     12     20000\n",
      "17   Sita     34     40000  Utkarsh     30     30000\n",
      "18   Sita     34     40000     Sita     34     40000\n",
      "19   Sita     34     40000    Vansh     56     50000\n",
      "20  Geeta     56     50000      Ram     10     10000\n",
      "21  Geeta     56     50000    Shyam     12     20000\n",
      "22  Geeta     56     50000  Utkarsh     30     30000\n",
      "23  Geeta     56     50000     Sita     34     40000\n",
      "24  Geeta     56     50000    Vansh     56     50000\n"
     ]
    }
   ],
   "source": [
    "merged= pd.merge(df1,df2, how=\"cross\")\n",
    "print(merged)"
   ]
  },
  {
   "cell_type": "code",
   "execution_count": 60,
   "id": "a3a25be2-d0f7-407c-a0da-9d3b566e4209",
   "metadata": {},
   "outputs": [
    {
     "name": "stdout",
     "output_type": "stream",
     "text": [
      "Note: you may need to restart the kernel to use updated packages.Collecting notebook-as-pdf\n",
      "  Downloading notebook_as_pdf-0.5.0-py3-none-any.whl.metadata (2.4 kB)\n",
      "Requirement already satisfied: nbconvert in c:\\users\\utkar\\anaconda3\\lib\\site-packages (from notebook-as-pdf) (7.16.4)\n",
      "Collecting pyppeteer (from notebook-as-pdf)\n",
      "  Downloading pyppeteer-2.0.0-py3-none-any.whl.metadata (7.1 kB)\n",
      "Collecting PyPDF2 (from notebook-as-pdf)\n",
      "  Downloading pypdf2-3.0.1-py3-none-any.whl.metadata (6.8 kB)\n",
      "Requirement already satisfied: beautifulsoup4 in c:\\users\\utkar\\anaconda3\\lib\\site-packages (from nbconvert->notebook-as-pdf) (4.12.3)\n",
      "Requirement already satisfied: bleach!=5.0.0 in c:\\users\\utkar\\anaconda3\\lib\\site-packages (from nbconvert->notebook-as-pdf) (4.1.0)\n",
      "Requirement already satisfied: defusedxml in c:\\users\\utkar\\anaconda3\\lib\\site-packages (from nbconvert->notebook-as-pdf) (0.7.1)\n",
      "Requirement already satisfied: jinja2>=3.0 in c:\\users\\utkar\\anaconda3\\lib\\site-packages (from nbconvert->notebook-as-pdf) (3.1.4)\n",
      "Requirement already satisfied: jupyter-core>=4.7 in c:\\users\\utkar\\anaconda3\\lib\\site-packages (from nbconvert->notebook-as-pdf) (5.7.2)\n",
      "Requirement already satisfied: jupyterlab-pygments in c:\\users\\utkar\\anaconda3\\lib\\site-packages (from nbconvert->notebook-as-pdf) (0.1.2)\n",
      "Requirement already satisfied: markupsafe>=2.0 in c:\\users\\utkar\\anaconda3\\lib\\site-packages (from nbconvert->notebook-as-pdf) (2.1.3)\n",
      "Requirement already satisfied: mistune<4,>=2.0.3 in c:\\users\\utkar\\anaconda3\\lib\\site-packages (from nbconvert->notebook-as-pdf) (2.0.4)\n",
      "Requirement already satisfied: nbclient>=0.5.0 in c:\\users\\utkar\\anaconda3\\lib\\site-packages (from nbconvert->notebook-as-pdf) (0.8.0)\n",
      "Requirement already satisfied: nbformat>=5.7 in c:\\users\\utkar\\anaconda3\\lib\\site-packages (from nbconvert->notebook-as-pdf) (5.10.4)\n",
      "Requirement already satisfied: packaging in c:\\users\\utkar\\anaconda3\\lib\\site-packages (from nbconvert->notebook-as-pdf) (24.1)\n",
      "Requirement already satisfied: pandocfilters>=1.4.1 in c:\\users\\utkar\\anaconda3\\lib\\site-packages (from nbconvert->notebook-as-pdf) (1.5.0)\n",
      "Requirement already satisfied: pygments>=2.4.1 in c:\\users\\utkar\\anaconda3\\lib\\site-packages (from nbconvert->notebook-as-pdf) (2.15.1)\n",
      "Requirement already satisfied: tinycss2 in c:\\users\\utkar\\anaconda3\\lib\\site-packages (from nbconvert->notebook-as-pdf) (1.2.1)\n",
      "Requirement already satisfied: traitlets>=5.1 in c:\\users\\utkar\\anaconda3\\lib\\site-packages (from nbconvert->notebook-as-pdf) (5.14.3)\n",
      "Requirement already satisfied: appdirs<2.0.0,>=1.4.3 in c:\\users\\utkar\\anaconda3\\lib\\site-packages (from pyppeteer->notebook-as-pdf) (1.4.4)\n",
      "Requirement already satisfied: certifi>=2023 in c:\\users\\utkar\\anaconda3\\lib\\site-packages (from pyppeteer->notebook-as-pdf) (2025.4.26)\n",
      "Requirement already satisfied: importlib-metadata>=1.4 in c:\\users\\utkar\\anaconda3\\lib\\site-packages (from pyppeteer->notebook-as-pdf) (7.0.1)\n",
      "Collecting pyee<12.0.0,>=11.0.0 (from pyppeteer->notebook-as-pdf)\n",
      "  Downloading pyee-11.1.1-py3-none-any.whl.metadata (2.8 kB)\n",
      "Requirement already satisfied: tqdm<5.0.0,>=4.42.1 in c:\\users\\utkar\\anaconda3\\lib\\site-packages (from pyppeteer->notebook-as-pdf) (4.66.5)\n",
      "Collecting urllib3<2.0.0,>=1.25.8 (from pyppeteer->notebook-as-pdf)\n",
      "  Downloading urllib3-1.26.20-py2.py3-none-any.whl.metadata (50 kB)\n",
      "Collecting websockets<11.0,>=10.0 (from pyppeteer->notebook-as-pdf)\n",
      "  Downloading websockets-10.4.tar.gz (84 kB)\n",
      "  Preparing metadata (setup.py): started\n",
      "  Preparing metadata (setup.py): finished with status 'done'\n",
      "Requirement already satisfied: six>=1.9.0 in c:\\users\\utkar\\anaconda3\\lib\\site-packages (from bleach!=5.0.0->nbconvert->notebook-as-pdf) (1.16.0)\n",
      "Requirement already satisfied: webencodings in c:\\users\\utkar\\anaconda3\\lib\\site-packages (from bleach!=5.0.0->nbconvert->notebook-as-pdf) (0.5.1)\n",
      "Requirement already satisfied: zipp>=0.5 in c:\\users\\utkar\\anaconda3\\lib\\site-packages (from importlib-metadata>=1.4->pyppeteer->notebook-as-pdf) (3.17.0)\n",
      "Requirement already satisfied: platformdirs>=2.5 in c:\\users\\utkar\\anaconda3\\lib\\site-packages (from jupyter-core>=4.7->nbconvert->notebook-as-pdf) (3.10.0)\n",
      "Requirement already satisfied: pywin32>=300 in c:\\users\\utkar\\anaconda3\\lib\\site-packages (from jupyter-core>=4.7->nbconvert->notebook-as-pdf) (305.1)\n",
      "Requirement already satisfied: jupyter-client>=6.1.12 in c:\\users\\utkar\\anaconda3\\lib\\site-packages (from nbclient>=0.5.0->nbconvert->notebook-as-pdf) (8.6.0)\n",
      "Requirement already satisfied: fastjsonschema>=2.15 in c:\\users\\utkar\\anaconda3\\lib\\site-packages (from nbformat>=5.7->nbconvert->notebook-as-pdf) (2.16.2)\n",
      "Requirement already satisfied: jsonschema>=2.6 in c:\\users\\utkar\\anaconda3\\lib\\site-packages (from nbformat>=5.7->nbconvert->notebook-as-pdf) (4.23.0)\n",
      "Requirement already satisfied: typing-extensions in c:\\users\\utkar\\anaconda3\\lib\\site-packages (from pyee<12.0.0,>=11.0.0->pyppeteer->notebook-as-pdf) (4.11.0)\n",
      "Requirement already satisfied: colorama in c:\\users\\utkar\\anaconda3\\lib\\site-packages (from tqdm<5.0.0,>=4.42.1->pyppeteer->notebook-as-pdf) (0.4.6)\n",
      "Requirement already satisfied: soupsieve>1.2 in c:\\users\\utkar\\anaconda3\\lib\\site-packages (from beautifulsoup4->nbconvert->notebook-as-pdf) (2.5)\n",
      "Requirement already satisfied: attrs>=22.2.0 in c:\\users\\utkar\\anaconda3\\lib\\site-packages (from jsonschema>=2.6->nbformat>=5.7->nbconvert->notebook-as-pdf) (23.1.0)\n",
      "Requirement already satisfied: jsonschema-specifications>=2023.03.6 in c:\\users\\utkar\\anaconda3\\lib\\site-packages (from jsonschema>=2.6->nbformat>=5.7->nbconvert->notebook-as-pdf) (2023.7.1)\n",
      "Requirement already satisfied: referencing>=0.28.4 in c:\\users\\utkar\\anaconda3\\lib\\site-packages (from jsonschema>=2.6->nbformat>=5.7->nbconvert->notebook-as-pdf) (0.30.2)\n",
      "Requirement already satisfied: rpds-py>=0.7.1 in c:\\users\\utkar\\anaconda3\\lib\\site-packages (from jsonschema>=2.6->nbformat>=5.7->nbconvert->notebook-as-pdf) (0.10.6)\n",
      "Requirement already satisfied: python-dateutil>=2.8.2 in c:\\users\\utkar\\anaconda3\\lib\\site-packages (from jupyter-client>=6.1.12->nbclient>=0.5.0->nbconvert->notebook-as-pdf) (2.9.0.post0)\n",
      "Requirement already satisfied: pyzmq>=23.0 in c:\\users\\utkar\\anaconda3\\lib\\site-packages (from jupyter-client>=6.1.12->nbclient>=0.5.0->nbconvert->notebook-as-pdf) (25.1.2)\n",
      "Requirement already satisfied: tornado>=6.2 in c:\\users\\utkar\\anaconda3\\lib\\site-packages (from jupyter-client>=6.1.12->nbclient>=0.5.0->nbconvert->notebook-as-pdf) (6.4.1)\n",
      "Downloading notebook_as_pdf-0.5.0-py3-none-any.whl (6.5 kB)\n",
      "Downloading pypdf2-3.0.1-py3-none-any.whl (232 kB)\n",
      "Downloading pyppeteer-2.0.0-py3-none-any.whl (82 kB)\n",
      "Downloading pyee-11.1.1-py3-none-any.whl (15 kB)\n",
      "Downloading urllib3-1.26.20-py2.py3-none-any.whl (144 kB)\n",
      "Building wheels for collected packages: websockets\n",
      "  Building wheel for websockets (setup.py): started\n",
      "  Building wheel for websockets (setup.py): finished with status 'done'\n",
      "  Created wheel for websockets: filename=websockets-10.4-cp312-cp312-win_amd64.whl size=95034 sha256=1c4f8f1aafeb1d5a079f6236ebd52850fc989f2990f56305244a08d1506298c9\n",
      "  Stored in directory: c:\\users\\utkar\\appdata\\local\\pip\\cache\\wheels\\80\\cf\\6d\\5d7e4c920cb41925a178b2d2621889c520d648bab487b1d7fd\n",
      "Successfully built websockets\n",
      "Installing collected packages: websockets, urllib3, PyPDF2, pyee, pyppeteer, notebook-as-pdf\n",
      "  Attempting uninstall: urllib3\n",
      "    Found existing installation: urllib3 2.2.3\n",
      "    Uninstalling urllib3-2.2.3:\n",
      "      Successfully uninstalled urllib3-2.2.3\n",
      "Successfully installed PyPDF2-3.0.1 notebook-as-pdf-0.5.0 pyee-11.1.1 pyppeteer-2.0.0 urllib3-1.26.20 websockets-10.4\n",
      "\n"
     ]
    },
    {
     "name": "stderr",
     "output_type": "stream",
     "text": [
      "ERROR: pip's dependency resolver does not currently take into account all the packages that are installed. This behaviour is the source of the following dependency conflicts.\n",
      "conda-repo-cli 1.0.114 requires urllib3>=2.2.2, but you have urllib3 1.26.20 which is incompatible.\n"
     ]
    }
   ],
   "source": [
    "pip install -U notebook-as-pdf"
   ]
  },
  {
   "cell_type": "code",
   "execution_count": 61,
   "id": "6d90b227-a5fd-426f-9e5f-9bda3e0237e8",
   "metadata": {},
   "outputs": [
    {
     "ename": "NameError",
     "evalue": "name 'pyppeteer' is not defined",
     "output_type": "error",
     "traceback": [
      "\u001b[1;31m---------------------------------------------------------------------------\u001b[0m",
      "\u001b[1;31mNameError\u001b[0m                                 Traceback (most recent call last)",
      "Cell \u001b[1;32mIn[61], line 1\u001b[0m\n\u001b[1;32m----> 1\u001b[0m pyppeteer\u001b[38;5;241m-\u001b[39minstall\n",
      "\u001b[1;31mNameError\u001b[0m: name 'pyppeteer' is not defined"
     ]
    }
   ],
   "source": [
    "pyppeteer-install"
   ]
  },
  {
   "cell_type": "code",
   "execution_count": null,
   "id": "980c6cbd-e125-4d6b-a7b5-b519deaaab63",
   "metadata": {},
   "outputs": [],
   "source": []
  }
 ],
 "metadata": {
  "kernelspec": {
   "display_name": "Python [conda env:base] *",
   "language": "python",
   "name": "conda-base-py"
  },
  "language_info": {
   "codemirror_mode": {
    "name": "ipython",
    "version": 3
   },
   "file_extension": ".py",
   "mimetype": "text/x-python",
   "name": "python",
   "nbconvert_exporter": "python",
   "pygments_lexer": "ipython3",
   "version": "3.12.7"
  }
 },
 "nbformat": 4,
 "nbformat_minor": 5
}
